{
 "cells": [
  {
   "cell_type": "code",
   "execution_count": 31,
   "id": "82fa86c9",
   "metadata": {},
   "outputs": [],
   "source": [
    "from sklearn.datasets import fetch_openml\n",
    "import numpy as np"
   ]
  },
  {
   "cell_type": "markdown",
   "id": "62d29dd0",
   "metadata": {},
   "source": [
    "Foi feito a importação dos dados, de um base onde tem imagens de números desenhados, é a primeira base de dados que normalmente se usa."
   ]
  },
  {
   "cell_type": "code",
   "execution_count": 43,
   "id": "91f29a63",
   "metadata": {},
   "outputs": [],
   "source": [
    "mnist = fetch_openml('mnist_784', version=1,as_frame=False)"
   ]
  },
  {
   "cell_type": "markdown",
   "id": "a8230412",
   "metadata": {},
   "source": [
    "Foi verificado"
   ]
  },
  {
   "cell_type": "code",
   "execution_count": 3,
   "id": "140734de",
   "metadata": {},
   "outputs": [
    {
     "data": {
      "text/plain": [
       "dict_keys(['data', 'target', 'frame', 'categories', 'feature_names', 'target_names', 'DESCR', 'details', 'url'])"
      ]
     },
     "execution_count": 3,
     "metadata": {},
     "output_type": "execute_result"
    }
   ],
   "source": [
    "mnist.keys()"
   ]
  },
  {
   "cell_type": "markdown",
   "id": "a5382013",
   "metadata": {},
   "source": [
    "Definido os dados de entradas X e os dados de saida y, para fazer os treinamentos e testes e verificou os tamanhos de cada base de dados, no caso são 70000 dados, e as imagens são de 28 X 28 que da 784 "
   ]
  },
  {
   "cell_type": "code",
   "execution_count": 4,
   "id": "d107a1c0",
   "metadata": {},
   "outputs": [
    {
     "data": {
      "text/plain": [
       "(70000, 784)"
      ]
     },
     "execution_count": 4,
     "metadata": {},
     "output_type": "execute_result"
    }
   ],
   "source": [
    "X, y = mnist[\"data\"], mnist[\"target\"]\n",
    "X.shape"
   ]
  },
  {
   "cell_type": "code",
   "execution_count": 6,
   "id": "f1623e06",
   "metadata": {},
   "outputs": [
    {
     "data": {
      "text/plain": [
       "(70000,)"
      ]
     },
     "execution_count": 6,
     "metadata": {},
     "output_type": "execute_result"
    }
   ],
   "source": [
    "y.shape"
   ]
  },
  {
   "cell_type": "code",
   "execution_count": 46,
   "id": "1e63e2a4",
   "metadata": {},
   "outputs": [
    {
     "data": {
      "image/png": "[encoded data removed]",
      "text/plain": [
       "<Figure size 432x288 with 1 Axes>"
      ]
     },
     "metadata": {
      "needs_background": "light"
     },
     "output_type": "display_data"
    }
   ],
   "source": [
    "%matplotlib inline\n",
    "import matplotlib as mpl\n",
    "import matplotlib.pyplot as plt\n",
    "\n",
    "some_digit = some_digit = X.iloc[0,:].values\n",
    "\n",
    "some_digit_image = some_digit.reshape(28, 28)\n",
    "plt.imshow(some_digit_image, cmap=mpl.cm.binary)\n",
    "plt.axis(\"off\")\n",
    "\n",
    "plt.show()"
   ]
  },
  {
   "cell_type": "markdown",
   "id": "aaea9962",
   "metadata": {},
   "source": [
    "Foi feito o embaralhamento dos dados, para que haja um melhor treino e teste desses dados"
   ]
  },
  {
   "cell_type": "code",
   "execution_count": 47,
   "id": "a7879106",
   "metadata": {},
   "outputs": [],
   "source": [
    "X_train, X_test, y_train, y_test = X[:60000], X[60000:], y[:60000], y[60000:]\n"
   ]
  },
  {
   "cell_type": "markdown",
   "id": "2f03bfa0",
   "metadata": {},
   "source": [
    "Agora vamos treinar um número 5"
   ]
  },
  {
   "cell_type": "code",
   "execution_count": 49,
   "id": "06b56792",
   "metadata": {},
   "outputs": [],
   "source": [
    "y_train_5 = (y_train == 5)\n",
    "y_test_5 = (y_test == 5)"
   ]
  },
  {
   "cell_type": "markdown",
   "id": "35ca3b46",
   "metadata": {},
   "source": [
    "Para isso vamos utilizar o classificados de gradiente SGDClassifier, que é bom para dados muito extensões"
   ]
  },
  {
   "cell_type": "code",
   "execution_count": 50,
   "id": "0effc592",
   "metadata": {},
   "outputs": [],
   "source": [
    "from sklearn.linear_model import SGDClassifier"
   ]
  },
  {
   "cell_type": "code",
   "execution_count": 51,
   "id": "7b79d114",
   "metadata": {},
   "outputs": [
    {
     "data": {
      "text/plain": [
       "SGDClassifier(random_state=42)"
      ]
     },
     "execution_count": 51,
     "metadata": {},
     "output_type": "execute_result"
    }
   ],
   "source": [
    "sgd_clf = SGDClassifier(random_state=42)\n",
    "sgd_clf.fit(X_train, y_train_5)"
   ]
  },
  {
   "cell_type": "code",
   "execution_count": 53,
   "id": "2d0f5e1b",
   "metadata": {},
   "outputs": [
    {
     "data": {
      "text/plain": [
       "array([ True])"
      ]
     },
     "execution_count": 53,
     "metadata": {},
     "output_type": "execute_result"
    }
   ],
   "source": [
    "sgd_clf.predict([some_digit])"
   ]
  },
  {
   "cell_type": "markdown",
   "id": "884c7007",
   "metadata": {},
   "source": [
    "Codigo de um validação cruzada, nesse techo vamos ver porque a base de estimativa não é tão usada."
   ]
  },
  {
   "cell_type": "code",
   "execution_count": 60,
   "id": "9eb25a70",
   "metadata": {},
   "outputs": [],
   "source": [
    "from sklearn.model_selection import StratifiedKFold\n",
    "from sklearn.base import clone"
   ]
  },
  {
   "cell_type": "markdown",
   "id": "9d0c332b",
   "metadata": {},
   "source": [
    "É verificado que houve quase 95% porcento de acertos, na hora de identificar so números 5"
   ]
  },
  {
   "cell_type": "code",
   "execution_count": 61,
   "id": "664e0957",
   "metadata": {},
   "outputs": [
    {
     "data": {
      "text/plain": [
       "array([0.95035, 0.96035, 0.9604 ])"
      ]
     },
     "execution_count": 61,
     "metadata": {},
     "output_type": "execute_result"
    }
   ],
   "source": [
    "from sklearn.model_selection import cross_val_score\n",
    "cross_val_score(sgd_clf, X_train, y_train_5, cv=3, scoring=\"accuracy\")\n"
   ]
  },
  {
   "cell_type": "markdown",
   "id": "04f78e0b",
   "metadata": {},
   "source": [
    "Contudo no código abaixo vamos verificar a quantidade de números cincos existentes e é possivel verificar que temos 10% de números 5, o que daria uma acerto de 90%, o que mostra que não é confiavel o uso desse metodo"
   ]
  },
  {
   "cell_type": "code",
   "execution_count": 62,
   "id": "b99b160f",
   "metadata": {},
   "outputs": [],
   "source": [
    "from sklearn.base import BaseEstimator"
   ]
  },
  {
   "cell_type": "code",
   "execution_count": 64,
   "id": "d7820446",
   "metadata": {},
   "outputs": [],
   "source": [
    "class Never5Classifier(BaseEstimator):\n",
    "    def fit(self, X,y=None):\n",
    "        pass\n",
    "    def predict(self, X):\n",
    "        return np.zeros((len(X),1), dtype=bool)"
   ]
  },
  {
   "cell_type": "code",
   "execution_count": 65,
   "id": "c4c34be4",
   "metadata": {},
   "outputs": [
    {
     "data": {
      "text/plain": [
       "array([0.91125, 0.90855, 0.90915])"
      ]
     },
     "execution_count": 65,
     "metadata": {},
     "output_type": "execute_result"
    }
   ],
   "source": [
    "never_5_clf = Never5Classifier()\n",
    "cross_val_score(never_5_clf, X_train, y_train_5, cv=3, scoring=\"accuracy\")"
   ]
  },
  {
   "cell_type": "markdown",
   "id": "57b03989",
   "metadata": {},
   "source": [
    "Para utilizar um método mais confiavel, pode utilizar o de matrix de confusão, onde gerara uma matriz de verdadeiros e falsos, quando o modelo fizer os testes"
   ]
  },
  {
   "cell_type": "code",
   "execution_count": 66,
   "id": "75f43e2c",
   "metadata": {},
   "outputs": [],
   "source": [
    "from sklearn.model_selection import cross_val_predict"
   ]
  },
  {
   "cell_type": "code",
   "execution_count": 67,
   "id": "918b5834",
   "metadata": {},
   "outputs": [],
   "source": [
    "y_train_pred = cross_val_predict(sgd_clf, X_train, y_train_5, cv=3)"
   ]
  },
  {
   "cell_type": "code",
   "execution_count": 68,
   "id": "fdecd57d",
   "metadata": {},
   "outputs": [
    {
     "data": {
      "text/plain": [
       "array([ True, False, False, ...,  True, False, False])"
      ]
     },
     "execution_count": 68,
     "metadata": {},
     "output_type": "execute_result"
    }
   ],
   "source": [
    "y_train_pred"
   ]
  },
  {
   "cell_type": "markdown",
   "id": "d9c1444f",
   "metadata": {},
   "source": [
    "Foi identificados que 53892 foram corretamente identificados com não 5 e 687 falsos positivos e 1891 foram identificados incorretamentes como 5 e 3530 corretamente como positivos"
   ]
  },
  {
   "cell_type": "code",
   "execution_count": 69,
   "id": "2e314a98",
   "metadata": {},
   "outputs": [
    {
     "data": {
      "text/plain": [
       "array([[53892,   687],\n",
       "       [ 1891,  3530]], dtype=int64)"
      ]
     },
     "execution_count": 69,
     "metadata": {},
     "output_type": "execute_result"
    }
   ],
   "source": [
    "from sklearn.metrics import confusion_matrix\n",
    "confusion_matrix(y_train_5, y_train_pred)"
   ]
  },
  {
   "cell_type": "markdown",
   "id": "93b2addd",
   "metadata": {},
   "source": [
    "Abaixo esta a matriz que seria perfeita, onde o lado direito da primeira coluna estaria zerado e a segunda coluna lado esquerdo estaria zerado"
   ]
  },
  {
   "cell_type": "code",
   "execution_count": 70,
   "id": "c0063934",
   "metadata": {},
   "outputs": [
    {
     "data": {
      "text/plain": [
       "array([[54579,     0],\n",
       "       [    0,  5421]], dtype=int64)"
      ]
     },
     "execution_count": 70,
     "metadata": {},
     "output_type": "execute_result"
    }
   ],
   "source": [
    "y_train_perfect_predictions = y_train_5\n",
    "confusion_matrix(y_train_5, y_train_perfect_predictions)"
   ]
  },
  {
   "cell_type": "markdown",
   "id": "7717e038",
   "metadata": {},
   "source": [
    "Agora vamos para uma metrica mais precisa para ver, a precisão e o recal\n",
    "\n",
    "precisão = tp / tp + fp\n",
    "\n",
    "Precisão é proporção de números positivos\n",
    "\n",
    "tp = ao acertos\n",
    "fp = aos falsos positivos\n",
    "\n",
    "o Recal é:\n",
    "recall = tp / tp + fn\n",
    "fn = aos falsos negativos\n",
    "\n",
    "Recall é a proporção de números positivas que são dectadas"
   ]
  },
  {
   "cell_type": "code",
   "execution_count": 71,
   "id": "820a2393",
   "metadata": {},
   "outputs": [],
   "source": [
    "from sklearn.metrics import precision_score, recall_score"
   ]
  },
  {
   "cell_type": "code",
   "execution_count": 72,
   "id": "20927d93",
   "metadata": {},
   "outputs": [
    {
     "data": {
      "text/plain": [
       "0.8370879772350012"
      ]
     },
     "execution_count": 72,
     "metadata": {},
     "output_type": "execute_result"
    }
   ],
   "source": [
    "precision_score(y_train_5, y_train_pred)"
   ]
  },
  {
   "cell_type": "code",
   "execution_count": 73,
   "id": "a35e3483",
   "metadata": {},
   "outputs": [
    {
     "data": {
      "text/plain": [
       "0.6511713705958311"
      ]
     },
     "execution_count": 73,
     "metadata": {},
     "output_type": "execute_result"
    }
   ],
   "source": [
    "recall_score(y_train_5, y_train_pred)"
   ]
  },
  {
   "cell_type": "markdown",
   "id": "bf14df77",
   "metadata": {},
   "source": [
    "Tem como unir esses dois em um chamado F1"
   ]
  },
  {
   "cell_type": "code",
   "execution_count": 74,
   "id": "7ecec740",
   "metadata": {},
   "outputs": [],
   "source": [
    "from sklearn.metrics import f1_score"
   ]
  },
  {
   "cell_type": "code",
   "execution_count": 75,
   "id": "ed78280a",
   "metadata": {},
   "outputs": [
    {
     "data": {
      "text/plain": [
       "0.7325171197343846"
      ]
     },
     "execution_count": 75,
     "metadata": {},
     "output_type": "execute_result"
    }
   ],
   "source": [
    "f1_score(y_train_5, y_train_pred)"
   ]
  },
  {
   "cell_type": "code",
   "execution_count": null,
   "id": "1580b52b",
   "metadata": {},
   "outputs": [],
   "source": []
  }
 ],
 "metadata": {
  "kernelspec": {
   "display_name": "Python 3",
   "language": "python",
   "name": "python3"
  },
  "language_info": {
   "codemirror_mode": {
    "name": "ipython",
    "version": 3
   },
   "file_extension": ".py",
   "mimetype": "text/x-python",
   "name": "python",
   "nbconvert_exporter": "python",
   "pygments_lexer": "ipython3",
   "version": "3.8.8"
  }
 },
 "nbformat": 4,
 "nbformat_minor": 5
}
